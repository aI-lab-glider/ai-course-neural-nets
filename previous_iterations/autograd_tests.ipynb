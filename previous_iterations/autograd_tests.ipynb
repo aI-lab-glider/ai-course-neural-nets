{
 "cells": [
  {
   "cell_type": "code",
   "execution_count": 2,
   "metadata": {},
   "outputs": [
    {
     "name": "stdout",
     "output_type": "stream",
     "text": [
      "W: [ 1.98762096 -0.47163551  3.1932936 ], loss: 0.15600271577914385\n"
     ]
    }
   ],
   "source": [
    "import autograd.numpy as np\n",
    "from autograd import grad, jacobian\n",
    "\n",
    "\n",
    "inputs = np.array([[0.52, 1.12,  0.77],\n",
    "                   [0.88, -1.08, 0.15],\n",
    "                   [0.52, 0.06, -1.30],\n",
    "                   [0.74, -2.49, 1.39]])\n",
    "targets = np.array([True, True, False, True])\n",
    "\n",
    "weights = np.random.rand(3)\n",
    "\n",
    "def sigmoid(x):\n",
    "    return 0.5 * (np.tanh(x / 2.) + 1)\n",
    "\n",
    "def predict(inputs, weights):\n",
    "    return sigmoid(inputs @ weights)\n",
    "\n",
    "def logistic_loss(weights):\n",
    "    preds = predict(inputs, weights)\n",
    "    label_probs = preds * targets + (1 - preds) * (1 - targets)\n",
    "    return -np.sum(np.log(label_probs))\n",
    "\n",
    "loss_gradient = grad(logistic_loss)\n",
    "for i in range(100):\n",
    "    weights -= 0.1 * loss_gradient(weights)\n",
    "\n",
    "\n",
    "print(f'W: {weights}, loss: {logistic_loss(weights)}')"
   ]
  },
  {
   "cell_type": "code",
   "execution_count": 3,
   "metadata": {},
   "outputs": [],
   "source": [
    "from numpy.typing import NDArray\n",
    "from __future__ import annotations\n",
    "from abc import ABC, abstractmethod\n",
    "import operator as op\n",
    "\n",
    "class Node:\n",
    "    def __init__(self, value: NDArray, parents: list[Node], primitive: Primitive) -> None:\n",
    "        self.value = value\n",
    "        self._parents = parents\n",
    "        self._primitive = primitive\n",
    "\n",
    "\n",
    "class Primitive(ABC):\n",
    "    def __init__(self, fun) -> None:\n",
    "        self._fun = fun\n",
    "    \n",
    "        \n",
    "    def __call__(self, *args: Node):\n",
    "        values = [n.value for n in args]\n",
    "        result = self._fun(*values)\n",
    "        return Node(result, args, self)\n",
    "    \n",
    "    @abstractmethod\n",
    "    def grad(self, argnum):\n",
    "        ...\n",
    "\n",
    "        \n",
    "class sum(Primitive):\n",
    "    def __init__(self) -> None:\n",
    "        super().__init__(op.add)\n",
    "\n",
    "    def grad(self, argnum):\n",
    "        def gradient(self, a: NDArray, b: NDArray):\n",
    "            return np.ones_like([a, b][argnum])\n",
    "        return gradient\n",
    "    \n",
    "class mult(Primitive):\n",
    "    def __init__(self) -> None:\n",
    "        super().__init__(op.mul)\n",
    "\n",
    "    def grad(self, argnum):\n",
    "        def gradient(self, a: NDArray, b: NDArray):\n",
    "            # ?\n",
    "            return [a, b][argnum - 1]\n",
    "        return gradient\n",
    "    \n",
    "class dibision(Primitive):\n",
    "    def __init__(self) -> None:\n",
    "        super().__init__(op.truediv)\n",
    "    \n",
    "    def grad(self):\n",
    "        def gradient(a: NDArray, b: NDArray):\n",
    "            return [\n",
    "                1 / b,\n",
    "                (b - a) / np.power(a, b)\n",
    "                ]\n",
    "        return gradient \n",
    "    \n",
    "class matmul(Primitive):\n",
    "    def __init__(self) -> None:\n",
    "        super().__init__(op.matmul)\n",
    "    \n",
    "    def grad(self):\n",
    "        def gradient(a, b):\n",
    "            return (a @ b)\n",
    "        return gradient"
   ]
  },
  {
   "cell_type": "code",
   "execution_count": 26,
   "metadata": {},
   "outputs": [
    {
     "name": "stdout",
     "output_type": "stream",
     "text": [
      "42.0 [5. 7. 9.]\n"
     ]
    }
   ],
   "source": [
    "def test(X: NDArray, Y: NDArray):\n",
    "    A = np.array([1, 2, 3], dtype=np.float64)\n",
    "    B = np.array([4, 5, 6], dtype=np.float64)\n",
    "    return (A + B) @ X\n",
    "\n",
    "X = np.array([2,2,2], dtype=np.float64)\n",
    "Y = np.array([1,1,1], dtype=np.float64)\n",
    "test_grad = grad(test, 0)\n",
    "print(test(X, Y), test_grad(X, Y))\n",
    "# Actually, expected. Now, let's reproduce it with my great lib\n",
    "\n"
   ]
  },
  {
   "cell_type": "code",
   "execution_count": 5,
   "metadata": {},
   "outputs": [
    {
     "name": "stdout",
     "output_type": "stream",
     "text": [
      "42.0 [5. 7. 9.]\n"
     ]
    }
   ],
   "source": [
    "def test(X: NDArray):\n",
    "    XNode = Node(X, [], None)\n",
    "    A = Node(np.array([1, 2, 3], dtype=np.float64), [], None)\n",
    "    B = Node(np.array([4, 5, 6], dtype=np.float64), [], None)\n",
    "    return matmul()(sum()(A, B), XNode)\n",
    "\n",
    "\n",
    "\n",
    "print(test(np.array([2,2,2])).value, test_grad(np.array([2,2,2])))"
   ]
  },
  {
   "cell_type": "code",
   "execution_count": 4,
   "metadata": {},
   "outputs": [
    {
     "ename": "ModuleNotFoundError",
     "evalue": "No module named 'autograd.numpy'; 'autograd' is not a package",
     "output_type": "error",
     "traceback": [
      "\u001b[0;31m---------------------------------------------------------------------------\u001b[0m",
      "\u001b[0;31mModuleNotFoundError\u001b[0m                       Traceback (most recent call last)",
      "\u001b[1;32m/home/bohdan/projects/glider/ai-course/neural-nets/autograd_tests.ipynb Cell 6\u001b[0m in \u001b[0;36m<cell line: 1>\u001b[0;34m()\u001b[0m\n\u001b[0;32m----> <a href='vscode-notebook-cell:/home/bohdan/projects/glider/ai-course/neural-nets/autograd_tests.ipynb#W5sZmlsZQ%3D%3D?line=0'>1</a>\u001b[0m \u001b[39mimport\u001b[39;00m \u001b[39mautograd\u001b[39;00m\u001b[39m.\u001b[39;00m\u001b[39mnumpy\u001b[39;00m \u001b[39mas\u001b[39;00m \u001b[39manp\u001b[39;00m\n\u001b[1;32m      <a href='vscode-notebook-cell:/home/bohdan/projects/glider/ai-course/neural-nets/autograd_tests.ipynb#W5sZmlsZQ%3D%3D?line=1'>2</a>\u001b[0m \u001b[39mimport\u001b[39;00m \u001b[39mnumpy\u001b[39;00m \u001b[39mas\u001b[39;00m \u001b[39mnp\u001b[39;00m\n\u001b[1;32m      <a href='vscode-notebook-cell:/home/bohdan/projects/glider/ai-course/neural-nets/autograd_tests.ipynb#W5sZmlsZQ%3D%3D?line=4'>5</a>\u001b[0m anp\u001b[39m.\u001b[39marray([\u001b[39m1\u001b[39m,\u001b[39m2\u001b[39m,\u001b[39m3\u001b[39m]) \u001b[39m+\u001b[39m np\u001b[39m.\u001b[39marray([\u001b[39m3\u001b[39m,\u001b[39m4\u001b[39m,\u001b[39m5\u001b[39m])\n",
      "\u001b[0;31mModuleNotFoundError\u001b[0m: No module named 'autograd.numpy'; 'autograd' is not a package"
     ]
    }
   ],
   "source": [
    "import autograd.numpy as anp\n",
    "import numpy as np\n",
    "\n",
    "\n",
    "anp.array([1,2,3]) + np.array([3,4,5])"
   ]
  }
 ],
 "metadata": {
  "kernelspec": {
   "display_name": "Python 3.10.6 ('ai-course')",
   "language": "python",
   "name": "python3"
  },
  "language_info": {
   "codemirror_mode": {
    "name": "ipython",
    "version": 3
   },
   "file_extension": ".py",
   "mimetype": "text/x-python",
   "name": "python",
   "nbconvert_exporter": "python",
   "pygments_lexer": "ipython3",
   "version": "3.10.6"
  },
  "orig_nbformat": 4,
  "vscode": {
   "interpreter": {
    "hash": "82fd92b5e2d525eb1997b978c0e983ce3f887f1794c79a067113c708b45f4fb8"
   }
  }
 },
 "nbformat": 4,
 "nbformat_minor": 2
}
